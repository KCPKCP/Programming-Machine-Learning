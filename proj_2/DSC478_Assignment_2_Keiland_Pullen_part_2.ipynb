{
 "cells": [
  {
   "cell_type": "markdown",
   "id": "11fa31b7",
   "metadata": {},
   "source": [
    "Keiland Pullen\n",
    "\n",
    "DSC 478 - Assignment 2 - part 2"
   ]
  },
  {
   "cell_type": "code",
   "execution_count": 69,
   "id": "a293c3c2",
   "metadata": {
    "scrolled": true
   },
   "outputs": [],
   "source": [
    "import pandas as pd\n",
    "import numpy as np\n",
    "from sklearn.metrics import classification_report, confusion_matrix\n",
    "import matplotlib.pyplot as plt\n",
    "import seaborn as sns\n",
    "import matplotlib.pyplot as plt\n",
    "\n"
   ]
  },
  {
   "cell_type": "markdown",
   "id": "84fb14f0",
   "metadata": {},
   "source": [
    "a.) \n",
    "\n",
    "Load the data, separate label, create dummy variables"
   ]
  },
  {
   "cell_type": "code",
   "execution_count": 44,
   "id": "3b30ab6d",
   "metadata": {
    "scrolled": true
   },
   "outputs": [
    {
     "name": "stderr",
     "output_type": "stream",
     "text": [
      "C:\\Users\\Home\\AppData\\Local\\Temp/ipykernel_16432/77693857.py:7: FutureWarning: In a future version of pandas all arguments of DataFrame.drop except for the argument 'labels' will be keyword-only\n",
      "  df = df.drop('income',1)\n"
     ]
    },
    {
     "data": {
      "text/html": [
       "<div>\n",
       "<style scoped>\n",
       "    .dataframe tbody tr th:only-of-type {\n",
       "        vertical-align: middle;\n",
       "    }\n",
       "\n",
       "    .dataframe tbody tr th {\n",
       "        vertical-align: top;\n",
       "    }\n",
       "\n",
       "    .dataframe thead th {\n",
       "        text-align: right;\n",
       "    }\n",
       "</style>\n",
       "<table border=\"1\" class=\"dataframe\">\n",
       "  <thead>\n",
       "    <tr style=\"text-align: right;\">\n",
       "      <th></th>\n",
       "      <th>age</th>\n",
       "      <th>education</th>\n",
       "      <th>hours-per-week</th>\n",
       "      <th>workclass_Private</th>\n",
       "      <th>workclass_Public</th>\n",
       "      <th>workclass_Self-emp</th>\n",
       "      <th>marital-status_Married</th>\n",
       "      <th>marital-status_Single</th>\n",
       "      <th>race_Amer-Indian</th>\n",
       "      <th>race_Asian</th>\n",
       "      <th>race_Black</th>\n",
       "      <th>race_Hispanic</th>\n",
       "      <th>race_White</th>\n",
       "      <th>sex_Female</th>\n",
       "      <th>sex_Male</th>\n",
       "    </tr>\n",
       "  </thead>\n",
       "  <tbody>\n",
       "    <tr>\n",
       "      <th>0</th>\n",
       "      <td>39</td>\n",
       "      <td>13</td>\n",
       "      <td>40</td>\n",
       "      <td>0</td>\n",
       "      <td>1</td>\n",
       "      <td>0</td>\n",
       "      <td>0</td>\n",
       "      <td>1</td>\n",
       "      <td>0</td>\n",
       "      <td>0</td>\n",
       "      <td>0</td>\n",
       "      <td>0</td>\n",
       "      <td>1</td>\n",
       "      <td>0</td>\n",
       "      <td>1</td>\n",
       "    </tr>\n",
       "    <tr>\n",
       "      <th>1</th>\n",
       "      <td>50</td>\n",
       "      <td>13</td>\n",
       "      <td>13</td>\n",
       "      <td>0</td>\n",
       "      <td>0</td>\n",
       "      <td>1</td>\n",
       "      <td>1</td>\n",
       "      <td>0</td>\n",
       "      <td>0</td>\n",
       "      <td>0</td>\n",
       "      <td>0</td>\n",
       "      <td>0</td>\n",
       "      <td>1</td>\n",
       "      <td>0</td>\n",
       "      <td>1</td>\n",
       "    </tr>\n",
       "    <tr>\n",
       "      <th>2</th>\n",
       "      <td>38</td>\n",
       "      <td>9</td>\n",
       "      <td>40</td>\n",
       "      <td>1</td>\n",
       "      <td>0</td>\n",
       "      <td>0</td>\n",
       "      <td>0</td>\n",
       "      <td>1</td>\n",
       "      <td>0</td>\n",
       "      <td>0</td>\n",
       "      <td>0</td>\n",
       "      <td>0</td>\n",
       "      <td>1</td>\n",
       "      <td>0</td>\n",
       "      <td>1</td>\n",
       "    </tr>\n",
       "    <tr>\n",
       "      <th>3</th>\n",
       "      <td>53</td>\n",
       "      <td>7</td>\n",
       "      <td>40</td>\n",
       "      <td>1</td>\n",
       "      <td>0</td>\n",
       "      <td>0</td>\n",
       "      <td>1</td>\n",
       "      <td>0</td>\n",
       "      <td>0</td>\n",
       "      <td>0</td>\n",
       "      <td>1</td>\n",
       "      <td>0</td>\n",
       "      <td>0</td>\n",
       "      <td>0</td>\n",
       "      <td>1</td>\n",
       "    </tr>\n",
       "    <tr>\n",
       "      <th>4</th>\n",
       "      <td>28</td>\n",
       "      <td>13</td>\n",
       "      <td>40</td>\n",
       "      <td>1</td>\n",
       "      <td>0</td>\n",
       "      <td>0</td>\n",
       "      <td>1</td>\n",
       "      <td>0</td>\n",
       "      <td>0</td>\n",
       "      <td>0</td>\n",
       "      <td>1</td>\n",
       "      <td>0</td>\n",
       "      <td>0</td>\n",
       "      <td>1</td>\n",
       "      <td>0</td>\n",
       "    </tr>\n",
       "    <tr>\n",
       "      <th>...</th>\n",
       "      <td>...</td>\n",
       "      <td>...</td>\n",
       "      <td>...</td>\n",
       "      <td>...</td>\n",
       "      <td>...</td>\n",
       "      <td>...</td>\n",
       "      <td>...</td>\n",
       "      <td>...</td>\n",
       "      <td>...</td>\n",
       "      <td>...</td>\n",
       "      <td>...</td>\n",
       "      <td>...</td>\n",
       "      <td>...</td>\n",
       "      <td>...</td>\n",
       "      <td>...</td>\n",
       "    </tr>\n",
       "    <tr>\n",
       "      <th>9407</th>\n",
       "      <td>38</td>\n",
       "      <td>10</td>\n",
       "      <td>60</td>\n",
       "      <td>1</td>\n",
       "      <td>0</td>\n",
       "      <td>0</td>\n",
       "      <td>1</td>\n",
       "      <td>0</td>\n",
       "      <td>0</td>\n",
       "      <td>0</td>\n",
       "      <td>0</td>\n",
       "      <td>0</td>\n",
       "      <td>1</td>\n",
       "      <td>0</td>\n",
       "      <td>1</td>\n",
       "    </tr>\n",
       "    <tr>\n",
       "      <th>9408</th>\n",
       "      <td>25</td>\n",
       "      <td>9</td>\n",
       "      <td>8</td>\n",
       "      <td>1</td>\n",
       "      <td>0</td>\n",
       "      <td>0</td>\n",
       "      <td>0</td>\n",
       "      <td>1</td>\n",
       "      <td>0</td>\n",
       "      <td>0</td>\n",
       "      <td>0</td>\n",
       "      <td>0</td>\n",
       "      <td>1</td>\n",
       "      <td>1</td>\n",
       "      <td>0</td>\n",
       "    </tr>\n",
       "    <tr>\n",
       "      <th>9409</th>\n",
       "      <td>21</td>\n",
       "      <td>10</td>\n",
       "      <td>40</td>\n",
       "      <td>1</td>\n",
       "      <td>0</td>\n",
       "      <td>0</td>\n",
       "      <td>0</td>\n",
       "      <td>1</td>\n",
       "      <td>0</td>\n",
       "      <td>0</td>\n",
       "      <td>1</td>\n",
       "      <td>0</td>\n",
       "      <td>0</td>\n",
       "      <td>0</td>\n",
       "      <td>1</td>\n",
       "    </tr>\n",
       "    <tr>\n",
       "      <th>9410</th>\n",
       "      <td>38</td>\n",
       "      <td>2</td>\n",
       "      <td>53</td>\n",
       "      <td>1</td>\n",
       "      <td>0</td>\n",
       "      <td>0</td>\n",
       "      <td>1</td>\n",
       "      <td>0</td>\n",
       "      <td>0</td>\n",
       "      <td>0</td>\n",
       "      <td>0</td>\n",
       "      <td>0</td>\n",
       "      <td>1</td>\n",
       "      <td>0</td>\n",
       "      <td>1</td>\n",
       "    </tr>\n",
       "    <tr>\n",
       "      <th>9411</th>\n",
       "      <td>39</td>\n",
       "      <td>10</td>\n",
       "      <td>40</td>\n",
       "      <td>1</td>\n",
       "      <td>0</td>\n",
       "      <td>0</td>\n",
       "      <td>0</td>\n",
       "      <td>1</td>\n",
       "      <td>0</td>\n",
       "      <td>0</td>\n",
       "      <td>0</td>\n",
       "      <td>0</td>\n",
       "      <td>1</td>\n",
       "      <td>1</td>\n",
       "      <td>0</td>\n",
       "    </tr>\n",
       "  </tbody>\n",
       "</table>\n",
       "<p>9412 rows × 15 columns</p>\n",
       "</div>"
      ],
      "text/plain": [
       "      age  education  hours-per-week  workclass_Private  workclass_Public  \\\n",
       "0      39         13              40                  0                 1   \n",
       "1      50         13              13                  0                 0   \n",
       "2      38          9              40                  1                 0   \n",
       "3      53          7              40                  1                 0   \n",
       "4      28         13              40                  1                 0   \n",
       "...   ...        ...             ...                ...               ...   \n",
       "9407   38         10              60                  1                 0   \n",
       "9408   25          9               8                  1                 0   \n",
       "9409   21         10              40                  1                 0   \n",
       "9410   38          2              53                  1                 0   \n",
       "9411   39         10              40                  1                 0   \n",
       "\n",
       "      workclass_Self-emp  marital-status_Married  marital-status_Single  \\\n",
       "0                      0                       0                      1   \n",
       "1                      1                       1                      0   \n",
       "2                      0                       0                      1   \n",
       "3                      0                       1                      0   \n",
       "4                      0                       1                      0   \n",
       "...                  ...                     ...                    ...   \n",
       "9407                   0                       1                      0   \n",
       "9408                   0                       0                      1   \n",
       "9409                   0                       0                      1   \n",
       "9410                   0                       1                      0   \n",
       "9411                   0                       0                      1   \n",
       "\n",
       "      race_Amer-Indian  race_Asian  race_Black  race_Hispanic  race_White  \\\n",
       "0                    0           0           0              0           1   \n",
       "1                    0           0           0              0           1   \n",
       "2                    0           0           0              0           1   \n",
       "3                    0           0           1              0           0   \n",
       "4                    0           0           1              0           0   \n",
       "...                ...         ...         ...            ...         ...   \n",
       "9407                 0           0           0              0           1   \n",
       "9408                 0           0           0              0           1   \n",
       "9409                 0           0           1              0           0   \n",
       "9410                 0           0           0              0           1   \n",
       "9411                 0           0           0              0           1   \n",
       "\n",
       "      sex_Female  sex_Male  \n",
       "0              0         1  \n",
       "1              0         1  \n",
       "2              0         1  \n",
       "3              0         1  \n",
       "4              1         0  \n",
       "...          ...       ...  \n",
       "9407           0         1  \n",
       "9408           1         0  \n",
       "9409           0         1  \n",
       "9410           0         1  \n",
       "9411           1         0  \n",
       "\n",
       "[9412 rows x 15 columns]"
      ]
     },
     "execution_count": 44,
     "metadata": {},
     "output_type": "execute_result"
    }
   ],
   "source": [
    "df = pd.read_csv(\"/Users/Home/Desktop/DePaul/Winter - DSC - 478 - Programming Machine Learning/Week 4/Homework/adult-modified1.csv\")\n",
    "df.shape\n",
    "# df.head\n",
    "\n",
    "adult_labels = df['income']\n",
    "\n",
    "df = df.drop('income',1)\n",
    "\n",
    "adult_data = pd.get_dummies(data=df, columns = ['workclass', 'marital-status', 'race','sex'])\n",
    "adult_data\n",
    "\n",
    "# df\n",
    "# adult_labels"
   ]
  },
  {
   "cell_type": "markdown",
   "id": "ec92bd31",
   "metadata": {},
   "source": [
    "b.)\n",
    "\n",
    "1.) Normalize the data, run KNN classifier, generate confusion matrix and classification report."
   ]
  },
  {
   "cell_type": "code",
   "execution_count": 53,
   "id": "ead474e3",
   "metadata": {
    "scrolled": false
   },
   "outputs": [],
   "source": [
    "from sklearn.model_selection import train_test_split\n",
    "\n",
    "adult_train, adult_test, adult_target_train, adult_target_test = train_test_split(adult_data, adult_labels, test_size=0.2, random_state=33)\n"
   ]
  },
  {
   "cell_type": "code",
   "execution_count": 56,
   "id": "6373a420",
   "metadata": {
    "scrolled": true
   },
   "outputs": [
    {
     "data": {
      "text/plain": [
       "272     <=50K\n",
       "7383    <=50K\n",
       "5508    <=50K\n",
       "4471    <=50K\n",
       "6138    <=50K\n",
       "        ...  \n",
       "57      <=50K\n",
       "578      >50K\n",
       "5848    <=50K\n",
       "2439    <=50K\n",
       "7188    <=50K\n",
       "Name: income, Length: 7529, dtype: object"
      ]
     },
     "execution_count": 56,
     "metadata": {},
     "output_type": "execute_result"
    }
   ],
   "source": [
    "adult_target_train"
   ]
  },
  {
   "cell_type": "code",
   "execution_count": 80,
   "id": "63448ed0",
   "metadata": {},
   "outputs": [],
   "source": [
    "from sklearn import preprocessing\n",
    "\n",
    "minmax_scaler = preprocessing.MinMaxScaler().fit(adult_train)\n",
    "adult_train_minmax = minmax_scaler.transform(adult_train)\n",
    "adult_test_minmax = minmax_scaler.transform(adult_test)"
   ]
  },
  {
   "cell_type": "code",
   "execution_count": 81,
   "id": "6c30ade9",
   "metadata": {},
   "outputs": [
    {
     "data": {
      "text/plain": [
       "array(['>50K', '>50K', '<=50K', ..., '<=50K', '<=50K', '>50K'],\n",
       "      dtype=object)"
      ]
     },
     "execution_count": 81,
     "metadata": {},
     "output_type": "execute_result"
    }
   ],
   "source": [
    "from sklearn.neighbors import KNeighborsClassifier\n",
    "neigh = KNeighborsClassifier(n_neighbors=10)\n",
    "neigh.fit(adult_train_minmax, adult_target_train)\n",
    "\n",
    "pred_train = neigh.predict(adult_train_minmax)\n",
    "\n",
    "pred_test = neigh.predict(adult_test_minmax)\n",
    "\n",
    "pred_train\n",
    "\n",
    "pred_test"
   ]
  },
  {
   "cell_type": "code",
   "execution_count": 82,
   "id": "f16fb7b7",
   "metadata": {},
   "outputs": [
    {
     "data": {
      "text/plain": [
       "0.8358347722141054"
      ]
     },
     "execution_count": 82,
     "metadata": {},
     "output_type": "execute_result"
    }
   ],
   "source": [
    "#pred-train accuracy\n",
    "\n",
    "(adult_target_train == pred_train).mean()"
   ]
  },
  {
   "cell_type": "code",
   "execution_count": 83,
   "id": "c73c213f",
   "metadata": {},
   "outputs": [
    {
     "data": {
      "text/plain": [
       "0.19330855018587362"
      ]
     },
     "execution_count": 83,
     "metadata": {},
     "output_type": "execute_result"
    }
   ],
   "source": [
    "#pred-test accuracy\n",
    "\n",
    "(adult_target_test != pred_test).mean()"
   ]
  },
  {
   "cell_type": "code",
   "execution_count": 84,
   "id": "30810709",
   "metadata": {
    "scrolled": true
   },
   "outputs": [
    {
     "name": "stdout",
     "output_type": "stream",
     "text": [
      "[[1310  133]\n",
      " [ 231  209]]\n",
      "              precision    recall  f1-score   support\n",
      "\n",
      "       <=50K       0.85      0.91      0.88      1443\n",
      "        >50K       0.61      0.47      0.53       440\n",
      "\n",
      "    accuracy                           0.81      1883\n",
      "   macro avg       0.73      0.69      0.71      1883\n",
      "weighted avg       0.79      0.81      0.80      1883\n",
      "\n"
     ]
    }
   ],
   "source": [
    "print(confusion_matrix(adult_target_test, pred_test))\n",
    "print(classification_report(adult_target_test, pred_test))"
   ]
  },
  {
   "cell_type": "code",
   "execution_count": 85,
   "id": "be593531",
   "metadata": {
    "scrolled": true
   },
   "outputs": [
    {
     "data": {
      "image/png": "[encoded data removed]",
      "text/plain": [
       "<Figure size 432x288 with 1 Axes>"
      ]
     },
     "metadata": {
      "needs_background": "light"
     },
     "output_type": "display_data"
    }
   ],
   "source": [
    "knn_confusion_matrix = pd.crosstab(index = adult_target_test, columns=pred_test.ravel(), rownames=['Expected'], colnames=['Predicted'])\n",
    "sns.heatmap(knn_confusion_matrix, annot=True, square=False, fmt='', cbar=False)\n",
    "plt.title(\"KNN Classification Matrix\", fontsize = 15)\n",
    "plt.show()"
   ]
  },
  {
   "cell_type": "markdown",
   "id": "b1e40dac",
   "metadata": {},
   "source": [
    "b.)\n",
    "\n",
    "2.) Next, experiment with different values of K....\n"
   ]
  },
  {
   "cell_type": "code",
   "execution_count": 75,
   "id": "225cbfaf",
   "metadata": {},
   "outputs": [
    {
     "ename": "KeyError",
     "evalue": "5",
     "output_type": "error",
     "traceback": [
      "\u001b[1;31m---------------------------------------------------------------------------\u001b[0m",
      "\u001b[1;31mKeyError\u001b[0m                                  Traceback (most recent call last)",
      "\u001b[1;32m~\\anaconda3\\lib\\site-packages\\pandas\\core\\indexes\\base.py\u001b[0m in \u001b[0;36mget_loc\u001b[1;34m(self, key, method, tolerance)\u001b[0m\n\u001b[0;32m   3360\u001b[0m             \u001b[1;32mtry\u001b[0m\u001b[1;33m:\u001b[0m\u001b[1;33m\u001b[0m\u001b[1;33m\u001b[0m\u001b[0m\n\u001b[1;32m-> 3361\u001b[1;33m                 \u001b[1;32mreturn\u001b[0m \u001b[0mself\u001b[0m\u001b[1;33m.\u001b[0m\u001b[0m_engine\u001b[0m\u001b[1;33m.\u001b[0m\u001b[0mget_loc\u001b[0m\u001b[1;33m(\u001b[0m\u001b[0mcasted_key\u001b[0m\u001b[1;33m)\u001b[0m\u001b[1;33m\u001b[0m\u001b[1;33m\u001b[0m\u001b[0m\n\u001b[0m\u001b[0;32m   3362\u001b[0m             \u001b[1;32mexcept\u001b[0m \u001b[0mKeyError\u001b[0m \u001b[1;32mas\u001b[0m \u001b[0merr\u001b[0m\u001b[1;33m:\u001b[0m\u001b[1;33m\u001b[0m\u001b[1;33m\u001b[0m\u001b[0m\n",
      "\u001b[1;32m~\\anaconda3\\lib\\site-packages\\pandas\\_libs\\index.pyx\u001b[0m in \u001b[0;36mpandas._libs.index.IndexEngine.get_loc\u001b[1;34m()\u001b[0m\n",
      "\u001b[1;32m~\\anaconda3\\lib\\site-packages\\pandas\\_libs\\index.pyx\u001b[0m in \u001b[0;36mpandas._libs.index.IndexEngine.get_loc\u001b[1;34m()\u001b[0m\n",
      "\u001b[1;32mpandas\\_libs\\hashtable_class_helper.pxi\u001b[0m in \u001b[0;36mpandas._libs.hashtable.Int64HashTable.get_item\u001b[1;34m()\u001b[0m\n",
      "\u001b[1;32mpandas\\_libs\\hashtable_class_helper.pxi\u001b[0m in \u001b[0;36mpandas._libs.hashtable.Int64HashTable.get_item\u001b[1;34m()\u001b[0m\n",
      "\u001b[1;31mKeyError\u001b[0m: 5",
      "\nThe above exception was the direct cause of the following exception:\n",
      "\u001b[1;31mKeyError\u001b[0m                                  Traceback (most recent call last)",
      "\u001b[1;32m~\\AppData\\Local\\Temp/ipykernel_16432/923156205.py\u001b[0m in \u001b[0;36m<module>\u001b[1;34m\u001b[0m\n\u001b[0;32m     21\u001b[0m \u001b[1;33m\u001b[0m\u001b[0m\n\u001b[0;32m     22\u001b[0m \u001b[1;33m\u001b[0m\u001b[0m\n\u001b[1;32m---> 23\u001b[1;33m \u001b[0mk\u001b[0m     \u001b[1;33m=\u001b[0m  \u001b[1;33m[\u001b[0m\u001b[0madult_target_train\u001b[0m\u001b[1;33m[\u001b[0m\u001b[0mi\u001b[0m\u001b[1;33m]\u001b[0m\u001b[1;33m[\u001b[0m\u001b[1;36m0\u001b[0m\u001b[1;33m]\u001b[0m \u001b[1;32mfor\u001b[0m \u001b[0mi\u001b[0m \u001b[1;32min\u001b[0m \u001b[0mrange\u001b[0m \u001b[1;33m(\u001b[0m\u001b[0mlen\u001b[0m\u001b[1;33m(\u001b[0m\u001b[0madult_target_train\u001b[0m\u001b[1;33m)\u001b[0m\u001b[1;33m)\u001b[0m\u001b[1;33m]\u001b[0m\u001b[1;33m\u001b[0m\u001b[1;33m\u001b[0m\u001b[0m\n\u001b[0m\u001b[0;32m     24\u001b[0m \u001b[0mdist\u001b[0m  \u001b[1;33m=\u001b[0m  \u001b[1;33m[\u001b[0m\u001b[0mpred_train_2\u001b[0m\u001b[1;33m[\u001b[0m\u001b[0mi\u001b[0m\u001b[1;33m]\u001b[0m \u001b[1;32mfor\u001b[0m \u001b[0mi\u001b[0m \u001b[1;32min\u001b[0m \u001b[0mrange\u001b[0m \u001b[1;33m(\u001b[0m\u001b[0mlen\u001b[0m\u001b[1;33m(\u001b[0m\u001b[0madult_target_train\u001b[0m\u001b[1;33m)\u001b[0m\u001b[1;33m)\u001b[0m\u001b[1;33m]\u001b[0m\u001b[1;33m\u001b[0m\u001b[1;33m\u001b[0m\u001b[0m\n\u001b[0;32m     25\u001b[0m \u001b[0munif\u001b[0m  \u001b[1;33m=\u001b[0m  \u001b[1;33m[\u001b[0m\u001b[0mpred_train_3\u001b[0m\u001b[1;33m[\u001b[0m\u001b[0mi\u001b[0m\u001b[1;33m]\u001b[0m \u001b[1;32mfor\u001b[0m \u001b[0mi\u001b[0m \u001b[1;32min\u001b[0m \u001b[0mrange\u001b[0m \u001b[1;33m(\u001b[0m\u001b[0mlen\u001b[0m\u001b[1;33m(\u001b[0m\u001b[0madult_target_train\u001b[0m\u001b[1;33m)\u001b[0m\u001b[1;33m)\u001b[0m\u001b[1;33m]\u001b[0m\u001b[1;33m\u001b[0m\u001b[1;33m\u001b[0m\u001b[0m\n",
      "\u001b[1;32m~\\AppData\\Local\\Temp/ipykernel_16432/923156205.py\u001b[0m in \u001b[0;36m<listcomp>\u001b[1;34m(.0)\u001b[0m\n\u001b[0;32m     21\u001b[0m \u001b[1;33m\u001b[0m\u001b[0m\n\u001b[0;32m     22\u001b[0m \u001b[1;33m\u001b[0m\u001b[0m\n\u001b[1;32m---> 23\u001b[1;33m \u001b[0mk\u001b[0m     \u001b[1;33m=\u001b[0m  \u001b[1;33m[\u001b[0m\u001b[0madult_target_train\u001b[0m\u001b[1;33m[\u001b[0m\u001b[0mi\u001b[0m\u001b[1;33m]\u001b[0m\u001b[1;33m[\u001b[0m\u001b[1;36m0\u001b[0m\u001b[1;33m]\u001b[0m \u001b[1;32mfor\u001b[0m \u001b[0mi\u001b[0m \u001b[1;32min\u001b[0m \u001b[0mrange\u001b[0m \u001b[1;33m(\u001b[0m\u001b[0mlen\u001b[0m\u001b[1;33m(\u001b[0m\u001b[0madult_target_train\u001b[0m\u001b[1;33m)\u001b[0m\u001b[1;33m)\u001b[0m\u001b[1;33m]\u001b[0m\u001b[1;33m\u001b[0m\u001b[1;33m\u001b[0m\u001b[0m\n\u001b[0m\u001b[0;32m     24\u001b[0m \u001b[0mdist\u001b[0m  \u001b[1;33m=\u001b[0m  \u001b[1;33m[\u001b[0m\u001b[0mpred_train_2\u001b[0m\u001b[1;33m[\u001b[0m\u001b[0mi\u001b[0m\u001b[1;33m]\u001b[0m \u001b[1;32mfor\u001b[0m \u001b[0mi\u001b[0m \u001b[1;32min\u001b[0m \u001b[0mrange\u001b[0m \u001b[1;33m(\u001b[0m\u001b[0mlen\u001b[0m\u001b[1;33m(\u001b[0m\u001b[0madult_target_train\u001b[0m\u001b[1;33m)\u001b[0m\u001b[1;33m)\u001b[0m\u001b[1;33m]\u001b[0m\u001b[1;33m\u001b[0m\u001b[1;33m\u001b[0m\u001b[0m\n\u001b[0;32m     25\u001b[0m \u001b[0munif\u001b[0m  \u001b[1;33m=\u001b[0m  \u001b[1;33m[\u001b[0m\u001b[0mpred_train_3\u001b[0m\u001b[1;33m[\u001b[0m\u001b[0mi\u001b[0m\u001b[1;33m]\u001b[0m \u001b[1;32mfor\u001b[0m \u001b[0mi\u001b[0m \u001b[1;32min\u001b[0m \u001b[0mrange\u001b[0m \u001b[1;33m(\u001b[0m\u001b[0mlen\u001b[0m\u001b[1;33m(\u001b[0m\u001b[0madult_target_train\u001b[0m\u001b[1;33m)\u001b[0m\u001b[1;33m)\u001b[0m\u001b[1;33m]\u001b[0m\u001b[1;33m\u001b[0m\u001b[1;33m\u001b[0m\u001b[0m\n",
      "\u001b[1;32m~\\anaconda3\\lib\\site-packages\\pandas\\core\\series.py\u001b[0m in \u001b[0;36m__getitem__\u001b[1;34m(self, key)\u001b[0m\n\u001b[0;32m    940\u001b[0m \u001b[1;33m\u001b[0m\u001b[0m\n\u001b[0;32m    941\u001b[0m         \u001b[1;32melif\u001b[0m \u001b[0mkey_is_scalar\u001b[0m\u001b[1;33m:\u001b[0m\u001b[1;33m\u001b[0m\u001b[1;33m\u001b[0m\u001b[0m\n\u001b[1;32m--> 942\u001b[1;33m             \u001b[1;32mreturn\u001b[0m \u001b[0mself\u001b[0m\u001b[1;33m.\u001b[0m\u001b[0m_get_value\u001b[0m\u001b[1;33m(\u001b[0m\u001b[0mkey\u001b[0m\u001b[1;33m)\u001b[0m\u001b[1;33m\u001b[0m\u001b[1;33m\u001b[0m\u001b[0m\n\u001b[0m\u001b[0;32m    943\u001b[0m \u001b[1;33m\u001b[0m\u001b[0m\n\u001b[0;32m    944\u001b[0m         \u001b[1;32mif\u001b[0m \u001b[0mis_hashable\u001b[0m\u001b[1;33m(\u001b[0m\u001b[0mkey\u001b[0m\u001b[1;33m)\u001b[0m\u001b[1;33m:\u001b[0m\u001b[1;33m\u001b[0m\u001b[1;33m\u001b[0m\u001b[0m\n",
      "\u001b[1;32m~\\anaconda3\\lib\\site-packages\\pandas\\core\\series.py\u001b[0m in \u001b[0;36m_get_value\u001b[1;34m(self, label, takeable)\u001b[0m\n\u001b[0;32m   1049\u001b[0m \u001b[1;33m\u001b[0m\u001b[0m\n\u001b[0;32m   1050\u001b[0m         \u001b[1;31m# Similar to Index.get_value, but we do not fall back to positional\u001b[0m\u001b[1;33m\u001b[0m\u001b[1;33m\u001b[0m\u001b[0m\n\u001b[1;32m-> 1051\u001b[1;33m         \u001b[0mloc\u001b[0m \u001b[1;33m=\u001b[0m \u001b[0mself\u001b[0m\u001b[1;33m.\u001b[0m\u001b[0mindex\u001b[0m\u001b[1;33m.\u001b[0m\u001b[0mget_loc\u001b[0m\u001b[1;33m(\u001b[0m\u001b[0mlabel\u001b[0m\u001b[1;33m)\u001b[0m\u001b[1;33m\u001b[0m\u001b[1;33m\u001b[0m\u001b[0m\n\u001b[0m\u001b[0;32m   1052\u001b[0m         \u001b[1;32mreturn\u001b[0m \u001b[0mself\u001b[0m\u001b[1;33m.\u001b[0m\u001b[0mindex\u001b[0m\u001b[1;33m.\u001b[0m\u001b[0m_get_values_for_loc\u001b[0m\u001b[1;33m(\u001b[0m\u001b[0mself\u001b[0m\u001b[1;33m,\u001b[0m \u001b[0mloc\u001b[0m\u001b[1;33m,\u001b[0m \u001b[0mlabel\u001b[0m\u001b[1;33m)\u001b[0m\u001b[1;33m\u001b[0m\u001b[1;33m\u001b[0m\u001b[0m\n\u001b[0;32m   1053\u001b[0m \u001b[1;33m\u001b[0m\u001b[0m\n",
      "\u001b[1;32m~\\anaconda3\\lib\\site-packages\\pandas\\core\\indexes\\base.py\u001b[0m in \u001b[0;36mget_loc\u001b[1;34m(self, key, method, tolerance)\u001b[0m\n\u001b[0;32m   3361\u001b[0m                 \u001b[1;32mreturn\u001b[0m \u001b[0mself\u001b[0m\u001b[1;33m.\u001b[0m\u001b[0m_engine\u001b[0m\u001b[1;33m.\u001b[0m\u001b[0mget_loc\u001b[0m\u001b[1;33m(\u001b[0m\u001b[0mcasted_key\u001b[0m\u001b[1;33m)\u001b[0m\u001b[1;33m\u001b[0m\u001b[1;33m\u001b[0m\u001b[0m\n\u001b[0;32m   3362\u001b[0m             \u001b[1;32mexcept\u001b[0m \u001b[0mKeyError\u001b[0m \u001b[1;32mas\u001b[0m \u001b[0merr\u001b[0m\u001b[1;33m:\u001b[0m\u001b[1;33m\u001b[0m\u001b[1;33m\u001b[0m\u001b[0m\n\u001b[1;32m-> 3363\u001b[1;33m                 \u001b[1;32mraise\u001b[0m \u001b[0mKeyError\u001b[0m\u001b[1;33m(\u001b[0m\u001b[0mkey\u001b[0m\u001b[1;33m)\u001b[0m \u001b[1;32mfrom\u001b[0m \u001b[0merr\u001b[0m\u001b[1;33m\u001b[0m\u001b[1;33m\u001b[0m\u001b[0m\n\u001b[0m\u001b[0;32m   3364\u001b[0m \u001b[1;33m\u001b[0m\u001b[0m\n\u001b[0;32m   3365\u001b[0m         \u001b[1;32mif\u001b[0m \u001b[0mis_scalar\u001b[0m\u001b[1;33m(\u001b[0m\u001b[0mkey\u001b[0m\u001b[1;33m)\u001b[0m \u001b[1;32mand\u001b[0m \u001b[0misna\u001b[0m\u001b[1;33m(\u001b[0m\u001b[0mkey\u001b[0m\u001b[1;33m)\u001b[0m \u001b[1;32mand\u001b[0m \u001b[1;32mnot\u001b[0m \u001b[0mself\u001b[0m\u001b[1;33m.\u001b[0m\u001b[0mhasnans\u001b[0m\u001b[1;33m:\u001b[0m\u001b[1;33m\u001b[0m\u001b[1;33m\u001b[0m\u001b[0m\n",
      "\u001b[1;31mKeyError\u001b[0m: 5"
     ]
    }
   ],
   "source": [
    "neigh2 = KNeighborsClassifier(n_neighbors=25, weights='distance')\n",
    "neigh2.fit(adult_train, adult_target_train)\n",
    "\n",
    "pred_train_2 = neigh2.predict(adult_train)\n",
    "\n",
    "pred_test_2 = neigh2.predict(adult_test)\n",
    "\n",
    "#pred_train_2\n",
    "#pred_test_2\n",
    "\n",
    "\n",
    "neigh3 = KNeighborsClassifier(n_neighbors=25, weights='uniform')\n",
    "neigh3.fit(adult_train, adult_target_train)\n",
    "\n",
    "pred_train_3 = neigh3.predict(adult_train)\n",
    "\n",
    "pred_test_3 = neigh3.predict(adult_test)\n",
    "\n",
    "#pred_train_3\n",
    "#pred_test_3\n",
    "\n",
    "\n",
    "k     =  [adult_target_train[i][0] for i in range (len(adult_target_train))]\n",
    "dist  =  [pred_train_2[i] for i in range (len(adult_target_train))]\n",
    "unif  =  [pred_train_3[i] for i in range (len(adult_target_train))]\n",
    "    \n",
    "plt.plot(k, euclid, label = \"Distance Weight\")\n",
    "plt.plot(k, cosin, label = \"Uniform Weight\" )\n",
    "plt.xlabel(\"K\")\n",
    "plt.ylabel(\"Distance\")\n",
    "plt.legend(loc=\"best\")\n",
    "plt.title(\"Weight Comparison\")\n",
    "plt.show()"
   ]
  },
  {
   "cell_type": "code",
   "execution_count": null,
   "id": "1bb5b5e2",
   "metadata": {},
   "outputs": [],
   "source": []
  },
  {
   "cell_type": "markdown",
   "id": "25b1a0c8",
   "metadata": {},
   "source": [
    "b.)\n",
    "\n",
    "3.) Next, using only \"Uniform\" weights, compare the accuracy of the KNN classifier using .. \n"
   ]
  },
  {
   "cell_type": "markdown",
   "id": "a01b0d37",
   "metadata": {},
   "source": [
    "c.) Using the non-normalized training and test data, perform classification using scikit-learns decision tree classifier...\n"
   ]
  },
  {
   "cell_type": "code",
   "execution_count": 98,
   "id": "28811dc5",
   "metadata": {
    "scrolled": false
   },
   "outputs": [
    {
     "name": "stdout",
     "output_type": "stream",
     "text": [
      "              precision    recall  f1-score   support\n",
      "\n",
      "       <=50K       0.84      0.87      0.85      1443\n",
      "        >50K       0.51      0.44      0.47       440\n",
      "\n",
      "    accuracy                           0.77      1883\n",
      "   macro avg       0.67      0.66      0.66      1883\n",
      "weighted avg       0.76      0.77      0.76      1883\n",
      "\n",
      "[[1255  188]\n",
      " [ 245  195]]\n"
     ]
    },
    {
     "data": {
      "text/plain": [
       "0.7700477960701009"
      ]
     },
     "execution_count": 98,
     "metadata": {},
     "output_type": "execute_result"
    }
   ],
   "source": [
    "from sklearn import neighbors, tree, naive_bayes\n",
    "\n",
    "tree_class = tree.DecisionTreeClassifier()\n",
    "tree_class = tree_class.fit(adult_train, adult_target_train)\n",
    "tree_preds_test = tree_class.predict(adult_test)\n",
    "\n",
    "print(classification_report(adult_target_test, tree_preds_test))\n",
    "print(confusion_matrix(adult_target_test, tree_preds_test))\n",
    "\n",
    "tree_accuracy = tree_class.score(adult_test, adult_target_test)\n",
    "tree_accuracy"
   ]
  },
  {
   "cell_type": "code",
   "execution_count": 99,
   "id": "75650793",
   "metadata": {},
   "outputs": [
    {
     "name": "stdout",
     "output_type": "stream",
     "text": [
      "              precision    recall  f1-score   support\n",
      "\n",
      "       <=50K       0.84      0.94      0.89      1443\n",
      "        >50K       0.68      0.41      0.51       440\n",
      "\n",
      "    accuracy                           0.82      1883\n",
      "   macro avg       0.76      0.68      0.70      1883\n",
      "weighted avg       0.80      0.82      0.80      1883\n",
      "\n",
      "[[1358   85]\n",
      " [ 260  180]]\n"
     ]
    },
    {
     "data": {
      "text/plain": [
       "0.8167817312798725"
      ]
     },
     "execution_count": 99,
     "metadata": {},
     "output_type": "execute_result"
    }
   ],
   "source": [
    "from sklearn import neighbors, tree, naive_bayes\n",
    "\n",
    "tree_class = tree.DecisionTreeClassifier(min_samples_split=10, max_depth=4)\n",
    "tree_class = tree_class.fit(adult_train, adult_target_train)\n",
    "\n",
    "tree_preds_test = tree_class.predict(adult_test)\n",
    "\n",
    "print(classification_report(adult_target_test, tree_preds_test))\n",
    "print(confusion_matrix(adult_target_test, tree_preds_test))\n",
    "\n",
    "tree_accuracy = tree_class.score(adult_test, adult_target_test)\n",
    "tree_accuracy"
   ]
  },
  {
   "cell_type": "code",
   "execution_count": 105,
   "id": "59d7b709",
   "metadata": {},
   "outputs": [
    {
     "ename": "ModuleNotFoundError",
     "evalue": "No module named 'graphviz'",
     "output_type": "error",
     "traceback": [
      "\u001b[1;31m---------------------------------------------------------------------------\u001b[0m",
      "\u001b[1;31mModuleNotFoundError\u001b[0m                       Traceback (most recent call last)",
      "\u001b[1;32m~\\AppData\\Local\\Temp/ipykernel_16432/490020947.py\u001b[0m in \u001b[0;36m<module>\u001b[1;34m\u001b[0m\n\u001b[0;32m      1\u001b[0m \u001b[1;32mfrom\u001b[0m \u001b[0msklearn\u001b[0m\u001b[1;33m.\u001b[0m\u001b[0mtree\u001b[0m \u001b[1;32mimport\u001b[0m \u001b[0mexport_graphviz\u001b[0m\u001b[1;33m\u001b[0m\u001b[1;33m\u001b[0m\u001b[0m\n\u001b[1;32m----> 2\u001b[1;33m \u001b[1;32mfrom\u001b[0m \u001b[0mgraphviz\u001b[0m \u001b[1;32mimport\u001b[0m \u001b[0mSource\u001b[0m\u001b[1;33m\u001b[0m\u001b[1;33m\u001b[0m\u001b[0m\n\u001b[0m\u001b[0;32m      3\u001b[0m \u001b[1;32mfrom\u001b[0m \u001b[0mIPython\u001b[0m\u001b[1;33m.\u001b[0m\u001b[0mdisplay\u001b[0m \u001b[1;32mimport\u001b[0m \u001b[0mSVG\u001b[0m\u001b[1;33m\u001b[0m\u001b[1;33m\u001b[0m\u001b[0m\n\u001b[0;32m      4\u001b[0m \u001b[1;32mfrom\u001b[0m \u001b[0mIPython\u001b[0m\u001b[1;33m.\u001b[0m\u001b[0mdisplay\u001b[0m \u001b[1;32mimport\u001b[0m \u001b[0mdisplay\u001b[0m\u001b[1;33m\u001b[0m\u001b[1;33m\u001b[0m\u001b[0m\n\u001b[0;32m      5\u001b[0m \u001b[1;33m\u001b[0m\u001b[0m\n",
      "\u001b[1;31mModuleNotFoundError\u001b[0m: No module named 'graphviz'"
     ]
    }
   ],
   "source": [
    "from sklearn.tree import export_graphviz\n",
    "from graphviz import Source\n",
    "from IPython.display import SVG\n",
    "from IPython.display import display\n",
    "\n",
    "graph = Source(tree.export_graphviz(tree_class, out_file=None\n",
    "   , feature_names=labels, class_names=['0', '1', '2'] \n",
    "   , filled = True))\n",
    "display(SVG(graph.pipe(format='svg')))"
   ]
  },
  {
   "cell_type": "markdown",
   "id": "42ee80c0",
   "metadata": {},
   "source": [
    "d.) Use scikit-learn to build classifiers using Naive Bayes (Gaussian) and LDA.... \n"
   ]
  },
  {
   "cell_type": "code",
   "execution_count": 123,
   "id": "c1371ff9",
   "metadata": {},
   "outputs": [
    {
     "name": "stdout",
     "output_type": "stream",
     "text": [
      "Number of mislabeled points out of a total 1883 points : 529\n",
      "{'fit_time': array([0.00894523, 0.00797868, 0.00798273, 0.00994039, 0.01495934,\n",
      "       0.00797606, 0.00797868, 0.00927567, 0.00797844, 0.00797892]), 'score_time': array([0.00199413, 0.00199485, 0.00199461, 0.0039916 , 0.00399089,\n",
      "       0.00199485, 0.00199461, 0.00199533, 0.00199413, 0.00199437]), 'test_score': array([0.71447543, 0.72642762, 0.71580345, 0.70783533, 0.72244356,\n",
      "       0.70916335, 0.73439575, 0.72377158, 0.71447543, 0.72340426])}\n"
     ]
    }
   ],
   "source": [
    "from sklearn.naive_bayes import GaussianNB\n",
    "from sklearn.model_selection import cross_validate\n",
    "\n",
    "adult_train, adult_test, adult_target_train, adult_target_test = train_test_split(adult_data, adult_labels, test_size=0.2, random_state=33)\n",
    "\n",
    "gnb = GaussianNB()\n",
    "model_1 = gnb.fit(adult_train, adult_target_train)\n",
    "model_pred = gnb.fit(adult_train, adult_target_train).predict(adult_test)\n",
    "\n",
    "print(\"Number of mislabeled points out of a total %d points : %d\"\n",
    "      % (adult_test.shape[0], (adult_target_test != model_pred).sum()))\n",
    "\n",
    "cv_results1 = cross_validate(model_1, adult_train, adult_target_train, cv=10)\n",
    "print(cv_results1)"
   ]
  },
  {
   "cell_type": "code",
   "execution_count": 122,
   "id": "2ee3c63a",
   "metadata": {},
   "outputs": [
    {
     "name": "stdout",
     "output_type": "stream",
     "text": [
      "['>50K' '<=50K' '<=50K' ... '<=50K' '<=50K' '>50K']\n",
      "{'fit_time': array([0.0229423 , 0.02991796, 0.02194381, 0.02094483, 0.02793002,\n",
      "       0.01994705, 0.0219419 , 0.02094388, 0.02493286, 0.03191495]), 'score_time': array([0.00299001, 0.00299191, 0.0029912 , 0.00299096, 0.0019908 ,\n",
      "       0.00299191, 0.00199389, 0.00299215, 0.00299168, 0.00199413]), 'test_score': array([0.79681275, 0.82071713, 0.78486056, 0.79415671, 0.79814077,\n",
      "       0.80478088, 0.81142098, 0.8313413 , 0.81540505, 0.80851064])}\n"
     ]
    }
   ],
   "source": [
    "from sklearn.discriminant_analysis import LinearDiscriminantAnalysis\n",
    "from sklearn.model_selection import cross_validate\n",
    "\n",
    "adult_train, adult_test, adult_target_train, adult_target_test = train_test_split(adult_data, adult_labels, test_size=0.2, random_state=33)\n",
    "\n",
    "lda_class = LinearDiscriminantAnalysis()\n",
    "model_2 = lda_class.fit(adult_train, adult_target_train)\n",
    "\n",
    "print(lda_class.predict(adult_test))\n",
    "\n",
    "cv_results2 = cross_validate(model_2, adult_train, adult_target_train, cv=10)\n",
    "print(cv_results2)"
   ]
  },
  {
   "cell_type": "code",
   "execution_count": null,
   "id": "2a5c791b",
   "metadata": {},
   "outputs": [],
   "source": []
  }
 ],
 "metadata": {
  "kernelspec": {
   "display_name": "Python 3 (ipykernel)",
   "language": "python",
   "name": "python3"
  },
  "language_info": {
   "codemirror_mode": {
    "name": "ipython",
    "version": 3
   },
   "file_extension": ".py",
   "mimetype": "text/x-python",
   "name": "python",
   "nbconvert_exporter": "python",
   "pygments_lexer": "ipython3",
   "version": "3.9.7"
  }
 },
 "nbformat": 4,
 "nbformat_minor": 5
}
